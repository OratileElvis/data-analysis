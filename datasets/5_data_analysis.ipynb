{
 "cells": [
  {
   "cell_type": "code",
   "execution_count": null,
   "id": "26d2bb5d",
   "metadata": {},
   "outputs": [],
   "source": [
    "#NDTA631 - Group Assignment\n",
    "# Member: Goitseone Mogokotleng, 202205210\n",
    "\n",
    "# DATA ANALYSIS, PART 5"
   ]
  },
  {
   "cell_type": "code",
   "execution_count": 1,
   "id": "11507c23",
   "metadata": {},
   "outputs": [
    {
     "name": "stdout",
     "output_type": "stream",
     "text": [
      "Dataset 1: (35, 7)\n",
      "  REF_AREA REF_AREA_LABEL                                   INDICATOR_LABEL  \\\n",
      "0      ZAF   South Africa  Used a mobile phone or the internet to pay bills   \n",
      "1      ZAF   South Africa  Used a mobile phone or the internet to pay bills   \n",
      "2      ZAF   South Africa  Used a mobile phone or the internet to pay bills   \n",
      "3      ZAF   South Africa  Used a mobile phone or the internet to pay bills   \n",
      "4      ZAF   South Africa  Used a mobile phone or the internet to pay bills   \n",
      "\n",
      "  SEX     AGE  TIME_PERIOD  OBS_VALUE  \n",
      "0  _T  Y_GE15         2017  10.124896  \n",
      "1  _T  Y_GE15         2021  27.613656  \n",
      "2  _T  Y_GE15         2024  20.810049  \n",
      "3   M  Y_GE15         2017  11.142022  \n",
      "4   F  Y_GE15         2017   9.171838   \n",
      "\n",
      "Dataset 2: (46, 7)\n",
      "  REF_AREA REF_AREA_LABEL       INDICATOR_LABEL SEX     AGE  TIME_PERIOD  \\\n",
      "0      ZAF   South Africa  Mobile money account  _T  Y_GE15         2014   \n",
      "1      ZAF   South Africa  Mobile money account  _T  Y_GE15         2017   \n",
      "2      ZAF   South Africa  Mobile money account  _T  Y_GE15         2021   \n",
      "3      ZAF   South Africa  Mobile money account  _T  Y_GE15         2024   \n",
      "4      ZAF   South Africa  Mobile money account   M  Y_GE15         2014   \n",
      "\n",
      "   OBS_VALUE  \n",
      "0  14.428180  \n",
      "1  19.016846  \n",
      "2  36.565308  \n",
      "3  31.623202  \n",
      "4  15.029617  \n"
     ]
    }
   ],
   "source": [
    "import pandas as pd\n",
    "\n",
    "df1 = pd.read_csv(\"cleaned_dataset1.csv\")\n",
    "df2 = pd.read_csv(\"cleaned_dataset2.csv\")\n",
    "\n",
    "print(\"Dataset 1:\", df1.shape)\n",
    "print(df1.head(), \"\\n\")\n",
    "print(\"Dataset 2:\", df2.shape)\n",
    "print(df2.head())\n"
   ]
  },
  {
   "cell_type": "code",
   "execution_count": 5,
   "id": "4696afb9",
   "metadata": {},
   "outputs": [
    {
     "name": "stdout",
     "output_type": "stream",
     "text": [
      "Merged dataset shape: (191, 9)\n",
      "  REF_AREA REF_AREA_LABEL                                INDICATOR_LABEL_D1  \\\n",
      "0      ZAF   South Africa  Used a mobile phone or the internet to pay bills   \n",
      "1      ZAF   South Africa  Used a mobile phone or the internet to pay bills   \n",
      "2      ZAF   South Africa  Used a mobile phone or the internet to pay bills   \n",
      "3      ZAF   South Africa  Used a mobile phone or the internet to pay bills   \n",
      "4      ZAF   South Africa  Used a mobile phone or the internet to pay bills   \n",
      "\n",
      "  SEX     AGE  TIME_PERIOD  OBS_VALUE_D1    INDICATOR_LABEL_D2  OBS_VALUE_D2  \n",
      "0  _T  Y_GE15         2017     10.124896  Mobile money account     19.016846  \n",
      "1  _T  Y_GE15         2017     10.124896  Mobile money account     23.623279  \n",
      "2  _T  Y_GE15         2017     10.124896  Mobile money account     12.060667  \n",
      "3  _T  Y_GE15         2017     10.124896  Mobile money account     11.234506  \n",
      "4  _T  Y_GE15         2017     10.124896  Mobile money account     28.795787  \n"
     ]
    }
   ],
   "source": [
    "\n",
    "df1.columns = df1.columns.str.strip().str.upper()\n",
    "df2.columns = df2.columns.str.strip().str.upper()\n",
    "\n",
    "df1 = df1.fillna(0)\n",
    "df2 = df2.fillna(0)\n",
    "\n",
    "\n",
    "merged = pd.merge(\n",
    "    df1, df2,\n",
    "    on=[\"TIME_PERIOD\", \"SEX\", \"AGE\", \"REF_AREA\", \"REF_AREA_LABEL\"],\n",
    "    suffixes=(\"_D1\", \"_D2\")\n",
    ")\n",
    "\n",
    "print(\"Merged dataset shape:\", merged.shape)\n",
    "print(merged.head())\n"
   ]
  },
  {
   "cell_type": "code",
   "execution_count": 6,
   "id": "9cb85fec",
   "metadata": {},
   "outputs": [
    {
     "name": "stdout",
     "output_type": "stream",
     "text": [
      "Requirement already satisfied: openpyxl in /usr/local/python/3.12.1/lib/python3.12/site-packages (3.1.5)\n",
      "Requirement already satisfied: et-xmlfile in /usr/local/python/3.12.1/lib/python3.12/site-packages (from openpyxl) (2.0.0)\n",
      "\n",
      "\u001b[1m[\u001b[0m\u001b[34;49mnotice\u001b[0m\u001b[1;39;49m]\u001b[0m\u001b[39;49m A new release of pip is available: \u001b[0m\u001b[31;49m25.1.1\u001b[0m\u001b[39;49m -> \u001b[0m\u001b[32;49m25.2\u001b[0m\n",
      "\u001b[1m[\u001b[0m\u001b[34;49mnotice\u001b[0m\u001b[1;39;49m]\u001b[0m\u001b[39;49m To update, run: \u001b[0m\u001b[32;49mpython3 -m pip install --upgrade pip\u001b[0m\n"
     ]
    }
   ],
   "source": [
    "!pip install openpyxl\n"
   ]
  },
  {
   "cell_type": "code",
   "execution_count": 7,
   "id": "ca444910",
   "metadata": {},
   "outputs": [],
   "source": [
    "from openpyxl import load_workbook\n",
    "from openpyxl.styles import PatternFill\n"
   ]
  },
  {
   "cell_type": "code",
   "execution_count": 8,
   "id": "31ce6132",
   "metadata": {},
   "outputs": [
    {
     "name": "stdout",
     "output_type": "stream",
     "text": [
      "Excel file saved with conditional formatting: Q5_DataAnalysis.xlsx\n"
     ]
    }
   ],
   "source": [
    "from openpyxl import load_workbook\n",
    "from openpyxl.styles import PatternFill\n",
    "import numpy as np\n",
    "\n",
    "excel_file = \"Q5_DataAnalysis.xlsx\"\n",
    "merged.to_excel(excel_file, index=False, sheet_name=\"Analysis\")\n",
    "\n",
    "wb = load_workbook(excel_file)\n",
    "ws = wb[\"Analysis\"]\n",
    "\n",
    "# Apply conditional formatting\n",
    "for row in ws.iter_rows(min_row=2, max_row=ws.max_row, min_col=ws.min_column, max_col=ws.max_column):\n",
    "    for cell in row:\n",
    "        if isinstance(cell.value, (int, float)):\n",
    "            if cell.value > 30:\n",
    "                cell.fill = PatternFill(start_color=\"FF9999\", end_color=\"FF9999\", fill_type=\"solid\")  # red\n",
    "            elif cell.value < 10:\n",
    "                cell.fill = PatternFill(start_color=\"99FF99\", end_color=\"99FF99\", fill_type=\"solid\")  # green\n",
    "\n",
    "wb.save(excel_file)\n",
    "print(\"Excel file saved with conditional formatting:\", excel_file)\n"
   ]
  },
  {
   "cell_type": "code",
   "execution_count": 7,
   "id": "64b2d48d",
   "metadata": {},
   "outputs": [
    {
     "data": {
      "image/png": "[encoded data removed]",
      "text/plain": [
       "<Figure size 800x500 with 1 Axes>"
      ]
     },
     "metadata": {},
     "output_type": "display_data"
    }
   ],
   "source": [
    "import matplotlib.pyplot as plt\n",
    "\n",
    "# Compare average OBS_VALUE per year (dataset1 vs dataset2)\n",
    "avg_df1 = df1.groupby(\"TIME_PERIOD\")[\"OBS_VALUE\"].mean()\n",
    "avg_df2 = df2.groupby(\"TIME_PERIOD\")[\"OBS_VALUE\"].mean()\n",
    "\n",
    "plt.figure(figsize=(8,5))\n",
    "plt.plot(avg_df1.index, avg_df1.values, marker=\"o\", label=\"Dataset 1\")\n",
    "plt.plot(avg_df2.index, avg_df2.values, marker=\"s\", label=\"Dataset 2\")\n",
    "\n",
    "plt.title(\"Average OBS_VALUE over Time\")\n",
    "plt.xlabel(\"Year\")\n",
    "plt.ylabel(\"Average Value\")\n",
    "plt.legend()\n",
    "plt.grid(True)\n",
    "plt.show()\n"
   ]
  },
  {
   "cell_type": "markdown",
   "id": "e4ad7757",
   "metadata": {},
   "source": [
    "## Findings from Data Analysis\n",
    "\n",
    "- **Dataset 1 (Internet/Mobile Bill Payments)**  \n",
    "  Adoption increased from ~10% in 2017 to ~26% in 2021, but slightly dropped to ~19% in 2024.  \n",
    "\n",
    "- **Dataset 2 (Mobile Money Accounts)**  \n",
    "  Higher adoption levels: ~18% in 2017, peaking at ~35% in 2021, then decreasing slightly to ~30% in 2024.  \n",
    "\n",
    "- **Comparison**  \n",
    "  Mobile money accounts are consistently **more widely adopted** than mobile/Internet bill payments.  \n",
    "  Both datasets show a dip after 2021, possibly due to economic or social factors.\n"
   ]
  },
  {
   "cell_type": "code",
   "execution_count": 1,
   "id": "a795ad54",
   "metadata": {},
   "outputs": [
    {
     "name": "stdout",
     "output_type": "stream",
     "text": [
      "Summary of Findings:\n",
      "- Dataset 1 (Internet/Mobile Bill Payments): grew from ~10% in 2017 to ~26% in 2021, but dropped to ~19% in 2024.\n",
      "- Dataset 2 (Mobile Money Accounts): started at ~18% in 2017, peaked at ~35% in 2021, then fell slightly to ~30% in 2024.\n",
      "- Comparison: Mobile money accounts consistently have higher adoption rates than mobile bill payments.\n"
     ]
    }
   ],
   "source": [
    "print(\"Summary of Findings:\")\n",
    "print(\"- Dataset 1 (Internet/Mobile Bill Payments): grew from ~10% in 2017 to ~26% in 2021, but dropped to ~19% in 2024.\")\n",
    "print(\"- Dataset 2 (Mobile Money Accounts): started at ~18% in 2017, peaked at ~35% in 2021, then fell slightly to ~30% in 2024.\")\n",
    "print(\"- Comparison: Mobile money accounts consistently have higher adoption rates than mobile bill payments.\")\n"
   ]
  }
 ],
 "metadata": {
  "kernelspec": {
   "display_name": "Python 3",
   "language": "python",
   "name": "python3"
  },
  "language_info": {
   "codemirror_mode": {
    "name": "ipython",
    "version": 3
   },
   "file_extension": ".py",
   "mimetype": "text/x-python",
   "name": "python",
   "nbconvert_exporter": "python",
   "pygments_lexer": "ipython3",
   "version": "3.12.1"
  }
 },
 "nbformat": 4,
 "nbformat_minor": 5
}
